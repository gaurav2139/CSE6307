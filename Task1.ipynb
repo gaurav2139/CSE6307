{
 "cells": [
  {
   "cell_type": "code",
   "execution_count": 2,
   "metadata": {
    "scrolled": true
   },
   "outputs": [
    {
     "name": "stdout",
     "output_type": "stream",
     "text": [
      "40\n"
     ]
    }
   ],
   "source": [
    "a =10 \n",
    "b =30\n",
    "print(a+b)"
   ]
  },
  {
   "cell_type": "code",
   "execution_count": 6,
   "metadata": {},
   "outputs": [
    {
     "name": "stdout",
     "output_type": "stream",
     "text": [
      "shakespeare gave the best theatrics  the world\n"
     ]
    }
   ],
   "source": [
    "a = 'shakespeare gave the best theatrics  the world'\n",
    "print(a)"
   ]
  },
  {
   "cell_type": "code",
   "execution_count": 27,
   "metadata": {
    "scrolled": false
   },
   "outputs": [
    {
     "name": "stdout",
     "output_type": "stream",
     "text": [
      "Surat is believed to have been didn't by a Brahmin named Gopi, who named the area Surajpur or Suryapur In the 12th and 15th centuries, Surat was plundered by Muslims.[20] In 1512, and again in 1530, Surat was ravaged by the Portuguese Empire. In 1514, the Portuguese traveler Duarte Barbosa described Surat as an important seaport, frequented by many ships from Malabar and various parts of the world. By 1520, the name of the city had become Surat. Since it is known for producing textiles, including silk, Surat is known as the textile hub of the nation or the Silk City of India. It is very famous for its cotton mills and Surat Zari Craft. Surat is the biggest centre of MMF (man-made fibre) in India. It has a total of 381 dyeing and printing mills and 41,100 power loom units. There are over a hundred thousand units and mills in total. The overall annual turnover is around 5 billion rupees. There are over 800 cloth wholesalers in Surat.[34] It is the largest manufacturer of clothes in India, and Surti dress material can be found in any state of India. Surat produces 9 million metres of fabric annually, which accounts for 60% of the total polyester cloth production in India. Now the city is focusing on increasing the exports of its textile.\n"
     ]
    }
   ],
   "source": [
    "a = \"\"\"Surat is believed to have been didn't by a Brahmin named Gopi, who named the area Surajpur or Suryapur In the 12th and 15th centuries, Surat was plundered by Muslims.[20] In 1512, and again in 1530, Surat was ravaged by the Portuguese Empire. In 1514, the Portuguese traveler Duarte Barbosa described Surat as an important seaport, frequented by many ships from Malabar and various parts of the world. By 1520, the name of the city had become Surat. Since it is known for producing textiles, including silk, Surat is known as the textile hub of the nation or the Silk City of India. It is very famous for its cotton mills and Surat Zari Craft. Surat is the biggest centre of MMF (man-made fibre) in India. It has a total of 381 dyeing and printing mills and 41,100 power loom units. There are over a hundred thousand units and mills in total. The overall annual turnover is around 5 billion rupees. There are over 800 cloth wholesalers in Surat.[34] It is the largest manufacturer of clothes in India, and Surti dress material can be found in any state of India. Surat produces 9 million metres of fabric annually, which accounts for 60% of the total polyester cloth production in India. Now the city is focusing on increasing the exports of its textile.\"\"\"\n",
    "print(a)"
   ]
  },
  {
   "cell_type": "code",
   "execution_count": 40,
   "metadata": {},
   "outputs": [
    {
     "name": "stdout",
     "output_type": "stream",
     "text": [
      "['London', 'paris', 'milan', 'barcelona', 'amsterdam', ' manchester', 'cardiff', 'glasgow', 'pitsburg', 'italy', 'Tuscany']\n"
     ]
    }
   ],
   "source": [
    "a = ['London', 'paris', 'milan', 'barcelona', 'amsterdam',' manchester', 'cardiff', 'glasgow', 'pitsburg', 'italy']\n",
    "a.append('Tuscany')\n",
    "print(a)"
   ]
  },
  {
   "cell_type": "code",
   "execution_count": 46,
   "metadata": {},
   "outputs": [
    {
     "name": "stdout",
     "output_type": "stream",
     "text": [
      "{'cricket': 'mithali raj', 'batminton': 'pv sindhu', 'tennis': 'paaes', 'chess': 'carlsen'}\n"
     ]
    }
   ],
   "source": [
    "sports = {\n",
    "    \"cricket\": \"virat kohli\",\n",
    "    \"cricket\" : \"mithali raj\",\n",
    "    \"batminton\" : \"pv sindhu\",\n",
    "    \"tennis\": \"paaes\",\n",
    "    \"chess\" : \"carlsen\"\n",
    "}\n",
    "print(sports)"
   ]
  },
  {
   "cell_type": "code",
   "execution_count": 51,
   "metadata": {},
   "outputs": [
    {
     "name": "stdout",
     "output_type": "stream",
     "text": [
      "(201, 202, 203, 204, 205, 'mgblock')\n"
     ]
    }
   ],
   "source": [
    "t = 201, 202, 203, 204, 205, 'mgblock'\n",
    "print(t)"
   ]
  },
  {
   "cell_type": "code",
   "execution_count": 49,
   "metadata": {},
   "outputs": [
    {
     "name": "stdout",
     "output_type": "stream",
     "text": [
      "103\n"
     ]
    }
   ],
   "source": [
    "p, q, r, s, t = 101, 102, 103, 104, 105\n",
    "print(r)"
   ]
  },
  {
   "cell_type": "code",
   "execution_count": 3,
   "metadata": {},
   "outputs": [
    {
     "name": "stdout",
     "output_type": "stream",
     "text": [
      "Enter the value:5\n",
      "155\n"
     ]
    }
   ],
   "source": [
    "a = int(input(\"Enter the value:\"))\n",
    "v = (a+(a*a)+(a*a*a))\n",
    "print(v)"
   ]
  },
  {
   "cell_type": "code",
   "execution_count": 8,
   "metadata": {},
   "outputs": [
    {
     "name": "stdout",
     "output_type": "stream",
     "text": [
      "Enter the number:5\n",
      "615\n"
     ]
    }
   ],
   "source": [
    "a = int(input(\"Enter the number:\"))\n",
    "p = int(\"%s\" %a)\n",
    "q = int(\"%s%s\" %(a,a))\n",
    "r = int(\"%s%s%s\" %(a,a,a))\n",
    "print(p+q+r)"
   ]
  },
  {
   "cell_type": "code",
   "execution_count": 36,
   "metadata": {},
   "outputs": [
    {
     "name": "stdout",
     "output_type": "stream",
     "text": [
      "[1]\n",
      "[1]\n",
      "[2]\n",
      "[3]\n",
      "[1, 1, 2, 3]\n"
     ]
    }
   ],
   "source": [
    "a = [1, 1, 2, 3, 5, 8, 13, 21, 34, 55, 89]\n",
    "for i in a:\n",
    "    if i < 5:\n",
    "        print([i])\n",
    "print([num for num in a if num<5])"
   ]
  },
  {
   "cell_type": "code",
   "execution_count": 37,
   "metadata": {},
   "outputs": [
    {
     "name": "stdout",
     "output_type": "stream",
     "text": [
      "Enter the number you to find divisor for:50\n",
      "[1, 2, 5, 10, 25, 50]\n"
     ]
    }
   ],
   "source": [
    "\"\"\"Create a program that asks the user for a number and then prints out a list of all the divisors of that number\"\"\"\n",
    "p = int(input(\"Enter the number you to find divisor for:\"))\n",
    "a = [*range(1,p+1)]\n",
    "num_div = []\n",
    "for i in a:\n",
    "    if p%i==0:\n",
    "        num_div.append(i)\n",
    "print(num_div)"
   ]
  },
  {
   "cell_type": "code",
   "execution_count": 55,
   "metadata": {},
   "outputs": [
    {
     "name": "stdout",
     "output_type": "stream",
     "text": [
      "[1, 1, 2, 3, 5, 8, 13]\n"
     ]
    }
   ],
   "source": [
    "\"\"\"write a program that returns a list that contains only the elements that are common between the lists\"\"\"\n",
    "a = [1, 1, 2, 3, 5, 8, 13, 21, 34, 55, 89]\n",
    "b = [1, 2, 3, 4, 5, 6, 7, 8, 9, 10, 11, 12, 13]\n",
    "p = []\n",
    "for x in a:\n",
    "    if x in b:\n",
    "        p.append(x)\n",
    "print(p)"
   ]
  },
  {
   "cell_type": "code",
   "execution_count": 4,
   "metadata": {
    "scrolled": true
   },
   "outputs": [
    {
     "name": "stdout",
     "output_type": "stream",
     "text": [
      "Give me a random word\n",
      "civic\n",
      "civic is a palindrome!\n"
     ]
    }
   ],
   "source": [
    "inp = input(\"Give me a random word\\n\")\n",
    "if inp.lower() == inp[::-1].lower(): \n",
    "    print(\"{} is a palindrome!\".format(inp))\n",
    "else: a\n",
    "    print(\"{} is not a palindrome!\".format(inp))\n"
   ]
  },
  {
   "cell_type": "code",
   "execution_count": 17,
   "metadata": {},
   "outputs": [
    {
     "name": "stdout",
     "output_type": "stream",
     "text": [
      "4321\n"
     ]
    }
   ],
   "source": [
    "a = '1234'\n",
    "print(a[::-1])"
   ]
  }
 ],
 "metadata": {
  "kernelspec": {
   "display_name": "Python 3",
   "language": "python",
   "name": "python3"
  },
  "language_info": {
   "codemirror_mode": {
    "name": "ipython",
    "version": 3
   },
   "file_extension": ".py",
   "mimetype": "text/x-python",
   "name": "python",
   "nbconvert_exporter": "python",
   "pygments_lexer": "ipython3",
   "version": "3.7.3"
  }
 },
 "nbformat": 4,
 "nbformat_minor": 2
}
